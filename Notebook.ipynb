{
 "cells": [
  {
   "cell_type": "markdown",
   "id": "551f0595",
   "metadata": {},
   "source": [
    "# Tools for Data Science"
   ]
  },
  {
   "cell_type": "markdown",
   "id": "c201e9cd",
   "metadata": {},
   "source": [
    "## Introduction\n",
    "In this notebook, we will explore various tools and libraries used in the field of Data Science. It also includes examples of basic arithmetic operations and unit conversions.\n"
   ]
  },
  {
   "cell_type": "markdown",
   "id": "558af53c",
   "metadata": {},
   "source": [
    "## Data Science Languages\n",
    "Some of the popular languages that Data Scientists use are:\n",
    "- Python\n",
    "- R\n",
    "- SQL\n",
    "- Julia\n",
    "- Scala\n"
   ]
  },
  {
   "cell_type": "markdown",
   "id": "d495bad3",
   "metadata": {},
   "source": [
    "## Data Science Libraries\n",
    "Commonly used libraries in Data Science include:\n",
    "- Pandas\n",
    "- NumPy\n",
    "- Matplotlib\n",
    "- Scikit-learn\n",
    "- TensorFlow\n"
   ]
  },
  {
   "cell_type": "markdown",
   "id": "d6c94c1a",
   "metadata": {},
   "source": [
    "## Data Science Tools\n",
    "\n",
    "| Tool              | Description                          |\n",
    "|-------------------|--------------------------------------|\n",
    "| Jupyter Notebook  | Interactive development environment  |\n",
    "| RStudio           | IDE for R                            |\n",
    "| Apache Spark      | Big data processing framework        |\n",
    "| TensorFlow        | Machine Learning framework           |\n",
    "| Tableau           | Data visualization tool              |\n"
   ]
  },
  {
   "cell_type": "markdown",
   "id": "57979fe2",
   "metadata": {},
   "source": [
    "## Arithmetic Expressions\n",
    "Below is an example of evaluating arithmetic expressions in Python.\n"
   ]
  },
  {
   "cell_type": "code",
   "execution_count": 1,
   "id": "7feabbb0",
   "metadata": {},
   "outputs": [
    {
     "data": {
      "text/plain": [
       "17"
      ]
     },
     "execution_count": 1,
     "metadata": {},
     "output_type": "execute_result"
    }
   ],
   "source": [
    "# Multiplication and Addition\n",
    "(3 * 4) + 5\n"
   ]
  },
  {
   "cell_type": "code",
   "execution_count": 2,
   "id": "51a99df7",
   "metadata": {},
   "outputs": [
    {
     "data": {
      "text/plain": [
       "2.5"
      ]
     },
     "execution_count": 2,
     "metadata": {},
     "output_type": "execute_result"
    }
   ],
   "source": [
    "# Convert minutes to hours\n",
    "minutes = 150\n",
    "hours = minutes / 60\n",
    "hours\n"
   ]
  },
  {
   "cell_type": "markdown",
   "id": "9172cde7",
   "metadata": {},
   "source": [
    "## Objectives\n",
    "The objectives of this notebook include:\n",
    "- Listing popular languages for Data Science\n",
    "- Listing commonly used libraries and tools in Data Science\n",
    "- Performing arithmetic operations\n",
    "- Converting units (minutes to hours)\n"
   ]
  },
  {
   "cell_type": "markdown",
   "id": "c0a642cc",
   "metadata": {},
   "source": [
    "## Author\n",
    "**Author:** Muhammad Zohaib\n"
   ]
  }
 ],
 "metadata": {
  "kernelspec": {
   "display_name": "base",
   "language": "python",
   "name": "python3"
  },
  "language_info": {
   "codemirror_mode": {
    "name": "ipython",
    "version": 3
   },
   "file_extension": ".py",
   "mimetype": "text/x-python",
   "name": "python",
   "nbconvert_exporter": "python",
   "pygments_lexer": "ipython3",
   "version": "3.12.4"
  }
 },
 "nbformat": 4,
 "nbformat_minor": 5
}
